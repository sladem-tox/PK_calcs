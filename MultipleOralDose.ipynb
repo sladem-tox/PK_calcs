{
  "nbformat": 4,
  "nbformat_minor": 0,
  "metadata": {
    "colab": {
      "provenance": [],
      "authorship_tag": "ABX9TyPu7xv+L/xDz589S3FtMbaK",
      "include_colab_link": true
    },
    "kernelspec": {
      "name": "python3",
      "display_name": "Python 3"
    },
    "language_info": {
      "name": "python"
    }
  },
  "cells": [
    {
      "cell_type": "markdown",
      "metadata": {
        "id": "view-in-github",
        "colab_type": "text"
      },
      "source": [
        "<a href=\"https://colab.research.google.com/github/sladem-tox/PK_calcs/blob/main/MultipleOralDose.ipynb\" target=\"_parent\"><img src=\"https://colab.research.google.com/assets/colab-badge.svg\" alt=\"Open In Colab\"/></a>"
      ]
    },
    {
      "cell_type": "markdown",
      "source": [
        "# Multiple Oral Dose plasma-time curve.\n",
        "`Page by Dr Slade Matthews, The University of Sydney, 2023`\n",
        "\n",
        "The plasma concentration at any time following multiple dosing can be determined with the following formula * :\n",
        "\n",
        "\\begin{equation} C_p = \\frac{F.Dose.k_a}{Vd(k-k_a)} * \\Big[ \\Big( \\frac{1-e^{-nk_a \\tau}}{(1-e^{-k_a.\\tau})} \\Big)*e^{-k_at} - \\Big(\\frac{1-e^{-nk τ}}{(1-e^{-k.\\tau})} \\Big)*e^{-kt} \\Big] \\end{equation}\n",
        "\n",
        "Where n = number of doses, τ = dose interval, F = fraction absorbed, Vd is volume of distribution, t = time after administration of n doses, ka is the absorption rate constant, k is the elimination rate constant\n",
        "\n",
        "*\n",
        "*Appears as equation 8.34 in Shargel, & Yu, A. B. C. (2016). Applied biopharmaceutics & pharmacokinetics (7th edition.). McGraw Hill Education.*\n",
        "\n",
        "In the cell below we require values for dose, Cl, Vd, F, and ka.\n",
        "This simple model does not account for salting effects, metabolism, etc."
      ],
      "metadata": {
        "id": "8exMtnP-YMZZ"
      }
    },
    {
      "cell_type": "markdown",
      "source": [
        "Example from textbook.\n",
        "\n",
        "Cp at 4 hours after the seventh dose may be calculated using Equation 8.34, letting n = 7, t = 4, τ = 8, and making the appropriate substitutions. Where Bioavailability = 0.75, Dose = 250, ka = 0.9h^-1, Vd =1.5, ke =0.07.\n",
        "\n",
        "\n",
        "![image.png](data:image/png;base64,iVBORw0KGgoAAAANSUhEUgAAAVcAAABpCAYAAACONmBxAAAd80lEQVR4nO2d3VUbSdOAnxppr199CaBaRlxbG4FFBEAE4AjAEQARYEcARACOADkCa6+N1q1NYLXXi6a+i+kRo9HoDyRLRv2c43PM/LZGpZrq6vqBQCAQCAQCgUAgsCQaqq1Y9XCdY9hVPVNVnbR/HWPcU23GqifTjmmoXqhqbRX3V9VaQ/ViFdcOBH51qusewCxUtWbG3UD4I7+tmnBuwiGACLePzk38kcd1fSjbLkbn8W/3cXic6gnG8ehB3HaduwGoGNfA/qwxqqpWE04ToSXQNOiIcNl17n5kXDPul12rYlwBLQOXv85/4CrGXUPVPTrXLo6roXphCXX3t+vntrXMOAdawH0kXH53rjPp2alqrQpnlo6zBrQHwkeX0o/r+q6hejHt+QcC20i07gHMogpnGPfOOZdtqxh3idAaCH9EwpEZp40dvZp0DREui/8AJeLfkQONYyxVYNm/AbQB/nLuE6AN1dasMVagCZAIR92eE4RbjLsxy3bK/SBVbBXjG0a/23P/J8Ln/HWcc32ES68sR/AK/3QQcZlt84r1AeG223OC0U+Mh2kWecW4S4yDgbA/EH7H6FfSc2oAA+GjGaerso4DgcCKiOv6I6+U9lSbcV1tT7U5PEb1JK6rzfsDb6i24rr+Uzx+t67fypTn8LwdvYrrejdrjGXs1vVb8dxZ99tVPYvr+s/IvXb0ereu37K/VbVWfB6QPpP8cX6cd8UxxHX9MenFVPass/vtqp7lP0f+70AgsOGWq/9Ra346bXAIuPxUNrP2qt5inIUZ597S7Oe3CzQF+pPOI+IL6XR66hjLKLvurPuJcYAxet2Ir5L7nP4ztAeFcWEcRMKXwiUPKW4z2iblz80/a/LPOrufGO+HQxK+5P8OBAIbrlwTUHLTZAAz3gEuvy3nMphoBWZ4S7GVny5D6tsESIxvcV0trutd0ap8gg5Qy0+jy8ZYxFvITRO+LnI/oCkRvfwG8Z89f6wYHUl4lz/OCuPKrE8pPDt//dLnZv7YCTOCWu64DnO+2AKBbWGjlauU/2Bf5dvzVutN3ocLqYLu9px0e04Gwu/+2Ie8Esss3WqquKaNcYRqwjnQT2C4UDXP/Zj3s0b8izDiNy2Oy17w3AZwD/Qrxp2q1lS15qf/LXIWt7e+J/ptA4FtZKOV67KZZLUW8YrvCHCWFFbzFyRWPTHhTIQPRTfEKu63TJxz/UjS6IiK8U/F+BalStqJ8OeahxcIbDQbrVyTMj9lOrUesZJyCy5Tp+d+Vb1dtFqn4IoWIcBTbmpdNsaMWPUQ4xrhQ1mo1Bz3a1tCPX9A4i3SsesZxc80Mq7seCs8O+9mmTi27851uj23763s3/2xKlD0Mc/7TAOBrWCjlWuU+vJG/IH+R635FWy/mNP3PtFSMqvVh2HNi4o9XzObsueVc9kYwSt8r1jzcauL3M+EL/hY3gy/cFT0Q78v+mYpH9c9xkFhW0tyvuCpg1OtJWnMbbsQG9siKNdAYISNVq6ZtZVXpP5H3R4Y16pa21NtinEuwuds2h2rHsZ1tXx4lJ9utydZkLHqSaY8VVV9yFLtKeJzdoy3GkcstrIxxqonifGAcS/gGqqt7N+C97uBNPwqOwc4LHlBNIuWpAhfvVWa3/YZOMyyurLrPsGn7Jjdun4rhnD5ex9GxoNAbSB8yO8z452NRyYEAlvNiHLNFiziuj74FWybFYu5coyboh9yIByJ0akYPxLjToTP0zKEVLWGoNOsVoNaYlzFdbVKqhj7A+GPEReCcTwWylQyRr9y30FQM87z/xa539DnKdTiupoZpwhH+ReEf4H0i1lWT6liPsyv9D8618YnXcR1NYRaJOxP8gVDmuUV1/Uf0nvfFsfor3+YjLsJAoEADK2nH7t1/Za3+BqqrWKA+hrGNRbw/7PxiQc/yvatc4xxXR8m1ReId/R61bn/DdWLzAIOBAIl+Ayi0hz8dbOrerbuDCCvqKZmU/3sMTZUW9MUm8+meliV0l/19QOBX55s6hd+JIFAILAcIoDEp1lO870FAoFAYH6qqloTo8mMwPp5mTZ1fkqjmELITiAQePNUq2m90dLCIi/BjIl+22q6Wj9cYNlUH29gNRTr5wYCb5mlF8vu9pzMe+yCAf2BXxyR5bzAA4FfAQGI62pifFqGVRHX1SbeTLgMFesDgcDW4ItA/7POeNZAIBB4SwgM24lcA4cYNxLRI+F/Jhz6Yh0/hYZq6wk6mxq1MGt8vt9Uc84iLW8aVdXfoDatP1cg8JapwrBO6dGeanOQNtWrWcSfEdxmBzZ29MoivmKcivB12dP7WPXQjFPXc/u5bScCWnavPdWmwaEZ7zGcRNxOqxsw6TpFsgIvhc1pTYKEgyocAKXuk2rCue/LNZqemqTFUqaNMc+u6pkY78VwTxGf8xEW2WcpO++138miY1XVWgQnYhyI0ZGI27wyTdI6sPshQiSwjYzUFvjuXOcv5z49OnfRde4m/0Mx4QSodXtu34x3s1o6L4xxlS1wDVNNjasJzfc0MR4S6ItwKRE9M8bSQGddp3QYxqlNaFnyFHFpwklZQz9VVRNO8kVQGjt6hXFNxBeL+LNsjEV26/oN41iEzwa1ivFtlrvGjPdW7CK7IIuO1Xel/SHGexEuifg3Mb7lK4eJcFtJ5nvugcDWkl+o8kprrFHfi6+dVrH6MfK36qHPHCtdICtmk8U7el3M/Z/nOmNjSXP1JzYbjHf0uizltLGjV/ntvt6AFeo0XBQbDhbGO9Zo0RfRmfqsfYPEF7/sXjTWQqPEbFv+O8iuO627bCDwVnlRyUGDmowXZ345CQeSa8TXde5+VsO/seaCaT3TkR/xPNcpoTWzSaGM12814dA3MPSHcQj08/f3ZQFrExMt0lqrI5lyvpTfZGWfKtXaAjVjx3jRWIXDsQaI6efXTJk655xBpzJHb7NA4K2xkHJtqF40VFtmnOcVyasR1KL5CjZPwlfsf9VCUmYxmnEe1/VhV/WsaCEP0iLUWlKHQQe5+w/LDubI3CzJ5L5bzWL7FF+Mm4muAV/LduaHm8ILxzp+Hf9SGukxVtI8MRDYBhZSrr5GaCsp1BRdAtOtxRnsqTYRTnilkgEQYV+ES4RbMU4rxo/8tDZbnMm38c75GZ8/Q0l7mIxocrPAieeUNRjMrNa8n/dFvGSsxr0Zp/lnU9b/SyJ6k1p3BwJvmYUytLxi2agkAFWtDYxrgZe4AEbwynH40lDV+4rxo5pwyoQIgbVS6MCQZ0LUw5DXRhYMIj5WDK2krcE7pC+Gjr/21oeiBQJzK9dNTFVV1VrkaxkUW48sA+dcP65rp8zymmVpi9FJCr5ZVVUMbEKvL4OOJPyvsE0Biv3BYtUTDH3KteseO29C1MMyxuoV+r4Pias9OteOd/TapPT4jYxbDgRWydzKdcVpq23v21vI4qkkXJlAMqNVyWvwi3dDhbGn2kzs2ScJqaUW15U91Wa23SK+inGmqpq5ErKFncEEhRUZbUsbEj5byQnvEdzY5zPOMW5crzyG1C9wzbXI9ZKxZmSf1z+XEynprxXacAe2kY1oULjoooevgH9nQvM1inVPtRnX9SFbLCouGu2qngk0JXpOpkjSKmJjCsegk1/88S4Kl8V5qmrNjFOMm0yBZZ8jC6PyzQk1+9v7kg8pzBp8yJQOllQm8iVjzdNQbSXpDKJdErVQ+rwCgbfO0qtivYiILxh3MN/UvgpnBocCVIx/4vrzeowI+/P6/AbpQlrLt+buJAmncV1PSC1oJa3FOLp4Zxwgz8p2+BGEL5aGUt3kth0lcLdb129i1AA3iJ6t0t9AkzTlGEgVWaz6gbRx4XFiNMW4eewVFFam+CZYrS9h0bHCsGSkmqWdZYuzG2/N1l7rCw8EAq9gWqO9VVKM41TVWkO1NSkLa1I7HG/Z/VN23p5qc1Igvd83dj0/hp/edmeRsc4a489okBgIBGbgp+gb3ccri32dtD9rS/4zx7SpZKnHm/x9BgKBQCAQCAQCgUAgEAgEAoFAIBAIBAKBQCAQCAQCgUAgEAgEAoFAIBAIBAKBQCAQCAQCgUAgEAgEAoFAIBAIBAKBQCAQCAQCgUAgEAgEAoFAIBAIBAKBQCAQWBuyrhurqlYh35CwPW/X1kAgENgUJumyaF0DqqYtmY/Xdf9AIBBYNma8B1oA1TWPxRV73edR1Zpzrv8zBzQLVa1VoNV17r7YlvsJOr+BAnx3rpNtj1UPB9DOPsuearN4TOEeCuCcc5OOn3XNWfcIpGyajOXla0+1aTDsnvsEDuhn+7PtRVnwlpROmgmW7V9Alk+6zt1kfxflrDiWbcD/Ti8A8q3k12a5zkMl4SpTNJtCFc4EMsFpZf/MuANq/4FLjPPseFWtYRxnwhbv6LUlHCfGeax6Urx+Q/WiknBeMa4aO3oFMPOadb3LrjnpHEh/GMt9Gr82sepJBQ7XPY48eflKoImXr8S4qkDLOdfHOM5alo/JgupJxbgi4SDe0evi9afsnynLDdWWeIUL5XIn0K/CSPv5ae3oAyvA97V/mLRfVbVMOCB9W2ZvzJ9NXNe74raGais/1saODl8KsepJrHoI6Wfares3//9aXNcf+euoai3b7+/1Y9Y191Sb+ecY19XKzoFUsW/ay2qdTJI/VdWiJfezKJOvMblQPcxelHlZ8Of/yBRvXNeH4u9k1v6pspzKTw2my13xM2yT3DVULzLrdWMt1yqcRBGf89syhZwY3xLj6mePSVVVDFfcbgnHEnE7/Dvia8X7XUh4P4A2QAVakfAFwFsaLi/cv+WsAo/LfuSTrvnduY5BraF6Ee/otQiXpeMABhGXlWTUmt1WGqot899FRvZCrxg/zJj44l8Vk+SrAodRbqwDaJPwHhiRBa/AXGbFivB1kPv+Z+2HGbIsDF0o0+RODJdXplHE58KCz1awscrVjPdFf6ElHPsfxFqiCqqgRPyb36aqioz6rwT6w+mToENhHlee5H1q353rCLh4R6/9NEuzKeKka6pqTcCR8D+EGgn/Kx0H3jck1DLrY5uxhOME7vPbIjgU6IvxaR1jKpMvADNOn3gek3Ouj4zLQrVEvqKcfM3aP1OWR4+dKHdE/Ju/13fnOn6hZ6tY94JWKbHqoSSMLcR0/3YfAOK6HizjPg3Vi8Q4EGhi3GTXb+zolQkj06Vuz+2XXaOScE7Bwp5Cm4T82McWHbo9d7Sn2vwP+hXjcNaCVAQnYrjHv91HgN26fttTbU48T/ji/Yw3pfu3AFWtmdHMFgwz/nLuE/hFCSs/dxGWIV+x6okktP/qzV4genSuvVvX4YzOEup5K3TW/kVkeVG5M+FLcTHsrbOZlmvCQf5LXwXxjl4nxkEiHA2E3xFamR/r8W/3sdtz+/l/kAqnGe+ya/g3/cjKbTp8mnjrWoSv2dT/CTomHKpqzU/3h9EAeb/Zf+AqxjXCx1nXjNJrNlW1lk3F/vPXzZ+TMYB7jKW8nH5VKnCIbL58AWCcPxUU3p5qU4SvMCoLkFqaDdWWqtYQWk/QUdVatqhUth/mk2WeF3Knyp0Z74pGQ7KFcreRytWEyZbXEmiothAOE2HfeQz6+Sn65MHRz6bVUfoj/Vg8RIz3mXAJ3JtfkXbO9SPhqGJcW8LxQDhKL0kNf+9Y9aSScCXCZV7QJ13z0bk2wm3FuKsYVxXhw9ANkTsnwznXt/S3tL2uAeOg6BJYJsuSr4ZqS4TbooVtqfviHkZlAWAgHFnCccW4joQjLwu1bPo/Yf9csmzC12wNYJLc+eiFMSvbP4OtkruNcwvsqTaTEqf+LKat7j6l3+3wmmacAu0qNGNVJU1m0MEcU2WJuPWhJhfZNLJkHH9mf393rhPX9TyLp/QvjaP8OXkF6KdNI+OYdc15zskTCV9ku10DYy6BWRRjTvMI9PPGwLLky8vFyMvRuzTePfbS+PCiLHhl+SF/Tj4Os2w/PLtE8hRlKIEbMa6zMZXJXRXOmDDrjIy2CC1W+GLbJDZOuRocmp/yLHTelNXdarqSmU9WaBk4jHMMR8TtgOe3+DTKBH7W/m7PHU04fC5ecs0Z42yTcMwWKteGasts3J8/Cx+dUvoCt/Q5532mK5Mvf42R7/618jXvWMruXXLOxKQgi/gqaZRDUK7rwIx3kcy9QDSk23OL1EmoRcLHba1l8OhcO66XxxC/dRJoRlJu0U9j0oLTBLZaviYxgHYk2xMKuIk+12bmZF8VBh1LQl2DZfu/GqoXcV0fJmWCxaoncV0f8hk7PpliLHA+3tHr7DqTjnkJkvDOgnytBedcvywc8TWoai3e0euyhIhp++O6PuT/Zft8EsDIDKWY8FR2TBmbqFx1nunTaxDhEuEk3tFrrxDu8jnBW4KrwtKy3DKF2e25fYzjovD5kKJ33Z7bF+N9pjgjOJHCTGVX9QxhmGrpnOuL8OdSsvLkOXZ4VQT5mkpnmdlvFeNaIm4HwlFi3BUNhkn7syiNgXBkUMt85sVIB+/jPifnEnqCT/O8PDdKufqHPnMqFQkfo5KVzXnpOnc/EH63KJ0eivB5mq/oLSJGx5ZoRYhx8JT5cIXPhXheMA6I0iwjSfe/9+e9LwizivFeCqFSxVXxV9CaNV1/ghsRFnEDjBDkawqGW6bcAc1H59rOub4Y95Vxv/jU/RGcZGF5PmtvZL2nmnCezz6DYRLHzFnfxvlc52EZYVp+BXUtmTgbQcS/S56itbIVeIF+MUhehD+9wm0DrWGGUWEFvmJcDYSPxXRJvyr+U1Ke/edYOGKl5BrbK18TkIgeS5I7vzj5/D2lMt3EL5jN2g+AcZw8v0hbUc64a6i2SIZrFKOfQ/izoTr1Rb1pyrXFC8KwAi/DEurT9vuZRItcIfPctiFPcDP2vRX+foJP1YizuK53JDgp8Xvuqp6R0K8Kmo1NVXXRsKlpn8eCfK2ffKpsgazkoqRrLzfZdx+rnhSNgSe4qRTOt9xL8QnctP3+ml/+KnFDqmotMa4k4tLLDbOUaZFXuwV8dtHYAkasevKSBRP/ZgusnnbOehwhq8JkxjkJ/zPjLvuOfU3RduFfn7wvLeEgmxJnOOf6j85ddHvuKBFauayjoWAL9P33n1q2gmY56j44fRmKMSjXNWI+s6ts355qs2L8IOHAEuoV40eW/RWlL+MRufOKd5iYkBgHUe6lPWs/xvlTLhzRwOVimWs+Hjwr+wh5oyLhf08zZOnVlqtBDeMqVs2CitO6ocbVb0KHFa/MBpZPxbjD6Axz4VX/9V0jbiZNmfdULxPjyr/lmwmpnyqu6z8D4Q/nnGuoXpjxHuHz0Br1GUm5ZAj8PS/gOcGiAi2ixeOfA5uFpJlqY3hL8QHhY7fn9Uh92D7lYkqtjMuKcd3YUWdG53vPdXwi0l23534v2w9eRyW0Xe95VjSAdjXhFLjPJ174sZzn/eaWFsxZrXJ9dK69p7qfGA9xVmXMuIqE/VAF/9cjU46DKA0WV1VNjIOoUJ6vyHfnOqp6VIVmt/cshAPh91z0Rzu/D0YzkvLbn4oJDsbxQMYziwJvgyqcGXSyF2wmhzC6mFSk69yNqrZ/E2qPXt94Wfxj0n5ILeH/otFkBueci+uqZd0p8guc07IfC5/p9Xx3rpMpWIBlK1YfY7aW4sVvjZnJFgkHSGq97ta1JoZi3D/J7MUZL5BjtQyy/5f5qx6da8clhZTzVoGf1t2WheiVVZjKEKOTVW2ahreotya4fQ20ZyVh+OphNf9bV7NhlMVMH2eZBZmXlbL9k/RTJFxGqStqZH9+HAa1wRyLlUtb0EpyMZP+/wsrV0tDcMamfgtmxwRegQlNjHuJuI0KOfOrYlYZOv9DKU2ZtIg/hfEaqAAmY+6L0he0n+6FUKk1ItA04WMEnWItkJ/JPPJerBw2iaUo18zHGnnTOXMRbFPtxjdEH8qtzE0kyNiboS/Q/1Xkbh5eHS2QV6zfnet8d64TCft+kWvRoO+t6Rg5iVlZSCvvHSZ8QTjJVv5VVV/wPW4kyS8uX6v67suu+9Pl0LjHOM+iA/ZUm+vqY7YsXm25DuD+N6GTN6czH+x/C4a9yAsKamwiqlqrpKXZahguW3Uf2Z9w5UOh+oPnWpiapKuVHyCN+xTjwKAmwueuczdJWsauuSqLrevcTUNVzbiO66pmdGzFhaV/FhF0jF+zYHNRNrxRc2xQqwgfitPZsv1+FT2fiNHs9tz/FWUqVj1J0v0dVdVKes6wHqxzrp8knKrq5bKm74OIj5WEqwp8i+taS9LyhFMXszadV1uuuRqlI3x3rrNNvcvzVBPOEb5kvuJiHHAEJ0R87fbcvgh/Rj4bqZpwOohSgVJfB7Tbc/uJnwmAnwavuKK7j0f9vdtz8lfP/VFW6zPwcynIRg3j3MvGUZK2wh4yaf935zrDzgfCbVbTYUymjINM0VZSWb71NSE6mawOIi592NJScM71u3+7D92e+79uz0m35/Z/dRfBRtUWWCa+AtOPfMvfn0UitAZZpfiI22GnTo+kK6PZG78tvnlbIXauL2l3zZbveZUPfh5Wqw/8HLLKSHFdbR3T1bxsVKAllspXFnec77Y6az8Mmx4+z368TBU7CUhEj4QDVdVEaGVB+M45ZxOSUAIpm6dcp6TGzYsPrTllTQkMkla67+c2FBKTuTXjvKHa8tV1hlkh2SFZoYnEuMI4J1c5SiJ6r61oteTiGb8Mc7VaKeBjLu/kBUW2l8hw3ALNYpfYfLfVWfsbqi0xOvkpfSZTVWjmsySf4AahVTGuBfqFcqALP8ttkruNqi1g0EFeP9V4gk+u5y68kn31YoxqmimShYo9wSfnXD/za+WPjYSPg9yP0KBW/FF6v6ZLoBlF9JKSgORY9cQM/avn/vA+3G+q2lmWj0tAeUHHh1+ZJ+hUXvBSenSuraq/V9MwtbPZZ0xnUXkaazEPHcl9Dh932Zl7v3E+iOZLyKgYD5Fw9N25zq7qWSXhipI2MfOyTXK3Ucp1UmrcoizT1+sXAR4QPiN8TozzahqGf1HWQwgg3tHOsI1wmmf/NbtW9kPxP1gnxkMi/OFPHR23n5455/q7dR3us4T6IAppxYvinOsXqxstcm5jPNdhYV4iT57h9z+Ajl9kuvAlGmvD5oBekZbth6EVPhZYn5epSqFW6X/+3t6Vle9Ou5VrKvOyUW4B78DeqPCLxLgz4fLRuYuuc/eR8MVs1IdaZBDxEeMgruuDwDBnfmBcZ76vuK4PlYTzfAdOsWffWHbObl2/7db1m+Tz8YWx9LxF8Z/hl14weCHtdYb4vESeYFQ2nHMO4TKu60PWxRXSluHVhNNJ+yG1WktX4b1MFWuVivAhMu7iuj5gnA6itI6yV9oLz6K2Se42ynL1uLLc3nXgp2n85dwnXwrt0IzTshbEeSY1cvur5zILtTTr7CnicyXhHD/tKoZwDcfE9Dz/OdFVt9PZSAxncxQ6XgUvlScokY0SKzcfnjfJCi6TuzGZEr5kMy9v8PxRPKeScP4UvShUamvkbvOUq9GuprniK3m7zahTMJoDnfAeQeO6mp+itxE+rirG1Dnn9lSnNmeMGI0pfuX91v4C++lEfB0rmPwKZtUlGKnl8Ap5mkc2XkpRprrO3cxKEogiPndf6P/fFrnbPOWa+ifnavfyossLH6f1ny9sUPFTuFWMpYxZinMZitVHKWzF1KzIANo+wWMpPMFNVeZ8lq+Up1XVeZgUp77ssWyb3G2ccl228BdZSCjSfj8z/WG/IK2sn9W2kZWVW+b1mDcT8e3K07xsldxt1IIW+OBkqG1CkLxE3AKtrJVurHryFrp4JsbBYEsWFcoQ434d9RLeqjzNy7bJ3cYpVwCE28pyOn2+Kj/50bm2CPuWUDfjXBLe8YsLh1/l3drUZBhmzS2cQvwEToTLWe09JvEW5WletlHuNs4tAJDAjXcNvGrhyK90vkp4l3GNTaKa1jV4E4VYXorvJFtbNCql2PrjJbw1eZqXbZS7jbRcnXN9n+u8NalyPwsz3v/qBTGWgvBlSbOjwBxso9xtpHKFtOqOj+sLLIlY9YQ3Uj7wtfhKUMezjwy8lm2Vu41Vrlk20iYsbL0ZcqXkAoBw+1YKgW80Wyp3G6tcIU0j3SYH+KoJ3VNH6Tp3s02r1+tiW+Vuo5VrUKzLJTzPccIzWT3b+ow3WrkGAoHAr0pQroFAILAC1h3nqrkMlfa2hWoEAoFfn6z4OaQhZ+KLga/NcvXZLlsXnhEIBN4uXrEGIzEQCARWxf8DKuQyQ24BiCMAAAAASUVORK5CYII=)\n",
        "\n",
        "Cp = 2.86 mg/L"
      ],
      "metadata": {
        "id": "SB9NectDIxin"
      }
    },
    {
      "cell_type": "markdown",
      "source": [
        "So the plasma concentration following each dose must be calculated separately and then added together using superposition of the curves to get the whole plasma-time curve for multiple dosing.\n",
        "\n",
        "The variable t (dosetime below) becomes time since the nth dose being modelled. So for the first dose time is simply t but for the 3rd dose, t = (time - (2*τ)).\n"
      ],
      "metadata": {
        "id": "ro8b-P82JSuk"
      }
    },
    {
      "cell_type": "code",
      "execution_count": null,
      "metadata": {
        "id": "I2QaeF_6K7J5"
      },
      "outputs": [],
      "source": [
        "############\n",
        "# Parameters:\n",
        "dose =250\n",
        "tau = 8 # dosing interval is called tau\n",
        "dosetime = 4 # 4 hours after the 7th dose\n",
        "n = 7 # The 7th dose\n",
        "F = 0.75\n",
        "ka = 0.9\n",
        "k = 0.07\n",
        "kdif = -0.83\n",
        "Vd = 121.5 #1.5 * 81 # Vd in L / kg so times 81 kg\n",
        "Cl = k*Vd"
      ]
    },
    {
      "cell_type": "markdown",
      "source": [
        "So here we check that we can get the same value as the textbook with out python script..."
      ],
      "metadata": {
        "id": "5AdP9eZJrAfU"
      }
    },
    {
      "cell_type": "code",
      "source": [
        "# At 4 hours after the 7th dose\n",
        "import numpy as np\n",
        "Cp = ((F*dose*ka)/(Vd*kdif)) * ( (((1-np.exp(-n*ka*tau))/(1-np.exp(-ka*tau)))*np.exp(-ka*dosetime))-(((1-np.exp(-n*k*tau))/(1-np.exp(-k*tau)))*np.exp(-k*dosetime)) )\n",
        "round(Cp,2)"
      ],
      "metadata": {
        "id": "o8-ENMh5aeOL"
      },
      "execution_count": null,
      "outputs": []
    },
    {
      "cell_type": "markdown",
      "source": [
        "OK. So now we try to map the whole of dose 7..."
      ],
      "metadata": {
        "id": "q3dv9BzrrHeu"
      }
    },
    {
      "cell_type": "code",
      "source": [
        "import matplotlib.pyplot as plt\n",
        "import numpy as np\n",
        "\n",
        "# Parameters:\n",
        "dose =250\n",
        "tau = 8 # dosing interval is called tau\n",
        "#dosetime = 4 # 4 hours after the 7th dose, or for the whole 7th dose use \"time\"\n",
        "n = 7 # The 7th dose\n",
        "F = 0.75\n",
        "ka = 0.9\n",
        "k = 0.07\n",
        "kdif = -0.83\n",
        "Vd = 121.5 #1.5 * 81 # Vd in L / kg so times 81 kg\n",
        "Cl = k*Vd\n",
        "\n",
        "time = np.linspace(0, 24, 100)\n",
        "\n",
        "y = ((F*dose*ka)/(Vd*kdif)) * ( (((1-np.exp(-n*ka*tau))/(1-np.exp(-ka*tau)))*np.exp(-ka*time))-(((1-np.exp(-n*k*tau))/(1-np.exp(-k*tau)))*np.exp(-k*time)) )\n",
        "\n",
        "fig = plt.figure(figsize = (10, 5))\n",
        "# Create the plot\n",
        "plt.plot(time, y)\n",
        "plt.xlabel(\"Time (h)\")\n",
        "plt.ylabel(\"Plasma Concentration (mg/L)\")\n",
        "\n",
        "# Show the plot\n",
        "plt.show()"
      ],
      "metadata": {
        "id": "AdJn-GKsYeek"
      },
      "execution_count": null,
      "outputs": []
    },
    {
      "cell_type": "markdown",
      "source": [
        "# Finally we generate a plot of multiple dosing where we can choose the dose rate τ and how long we observe (using np.linspace, 168 hours in a week)."
      ],
      "metadata": {
        "id": "5aY8fcsprN_y"
      }
    },
    {
      "cell_type": "code",
      "source": [
        "import numpy as np\n",
        "import matplotlib.pyplot as plt\n",
        "\n",
        "# Parameters\n",
        "dose = 250\n",
        "tau = 24\n",
        "F = 0.75\n",
        "ka = 0.9\n",
        "k = 0.07\n",
        "kdif = -0.83\n",
        "Vd = 121.5\n",
        "\n",
        "# Time range\n",
        "time = np.linspace(0, 168, num=1000)\n",
        "\n",
        "# Calculate plasma concentration taking into account the dose number (m_array) which is time/tau as integer plus one (to correct for initial zero)\n",
        "# and also changing time to dosetime which is time since last dose which uses n_array * tau so that is starts from zero on day 1.\n",
        "\n",
        "n_array = np.int_(time / tau)\n",
        "dosetime = time - (n_array * tau)\n",
        "m_array = (n_array +1)\n",
        "y = ((F * dose * ka) / (Vd * kdif)) * (\n",
        "    (((1 - np.exp(-m_array * ka * tau)) / (1 - np.exp(-ka * tau))) * np.exp(-ka * dosetime)) -\n",
        "    (((1 - np.exp(-m_array * k * tau)) / (1 - np.exp(-k * tau))) * np.exp(-k * dosetime))\n",
        ")\n",
        "\n",
        "# Plotting\n",
        "plt.plot(time, y)\n",
        "plt.xlabel('Time (hours)')\n",
        "plt.ylabel('Plasma Concentration (mg/L)')\n",
        "plt.title('Plasma Concentration for multiple oral doses')\n",
        "plt.grid(True)\n",
        "plt.show()\n"
      ],
      "metadata": {
        "id": "P9xcvlBborHt"
      },
      "execution_count": null,
      "outputs": []
    },
    {
      "cell_type": "markdown",
      "source": [
        "It takes about five half-lives to reach steady-state (see below). As you can see from the above graph the top and bottom of the curves even out after the 50 hour timepoint."
      ],
      "metadata": {
        "id": "kea0-5ytBjMi"
      }
    },
    {
      "cell_type": "code",
      "source": [
        "Cl = k*Vd\n",
        "halflife = 0.693 * (Vd/Cl)\n",
        "time2steady = 5 * halflife\n",
        "print(\"It will take approximately %.2f hours to reach steady-state.\" % time2steady )"
      ],
      "metadata": {
        "id": "uu0MB0tA_-VI"
      },
      "execution_count": null,
      "outputs": []
    }
  ]
}