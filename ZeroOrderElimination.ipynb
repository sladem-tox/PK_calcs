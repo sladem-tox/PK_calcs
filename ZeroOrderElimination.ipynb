{
  "nbformat": 4,
  "nbformat_minor": 0,
  "metadata": {
    "colab": {
      "provenance": [],
      "authorship_tag": "ABX9TyNnHO0wYsR2ZjfFpet4hcdP",
      "include_colab_link": true
    },
    "kernelspec": {
      "name": "python3",
      "display_name": "Python 3"
    },
    "language_info": {
      "name": "python"
    }
  },
  "cells": [
    {
      "cell_type": "markdown",
      "metadata": {
        "id": "view-in-github",
        "colab_type": "text"
      },
      "source": [
        "<a href=\"https://colab.research.google.com/github/sladem-tox/PK_calcs/blob/main/ZeroOrderElimination.ipynb\" target=\"_parent\"><img src=\"https://colab.research.google.com/assets/colab-badge.svg\" alt=\"Open In Colab\"/></a>"
      ]
    },
    {
      "cell_type": "markdown",
      "source": [
        "# Zero Order Elimination plasma-time curve.\n",
        "`Page by Dr Slade Matthews, The University of Sydney, 2023`\n",
        "\n",
        "Elimination can be described using an ordinary differential equation (ODE):\n",
        "\n",
        "\\begin{equation} dC/dt = \\frac{V_m.C_p}{Km + C_p} \\end{equation}\n",
        "\n",
        "This behaviour is called Michaelis-Menten kinetics which was originally used to describe enzyme kinetics. The rate of enzymatic degradation of a substrate by an enzyme has some maximum, Vmax which along with Km (concentration at which rate = 1/2 Vmax) can be used to describe the dynamics of the enzyme reaction. Since enzymes and transporters important to drug disposition can be saturated the same formula can be useful in pharmacokinetics.\n",
        "\n",
        "This situation could arise with drugs such as alcohol where at most 10 grams can be eliminated from the body per hour (at Vmax). Another estimate (See **Holford, 1987**) describes the Vmax as 8.5 g/h/70kg which equates to a plasma elimination rate of 230 mg/L/h.  The Km for alcohol is around 0.01 % (g/100mL) so we are halfway to Vmax at this concentration. For calculation purposes we will use the value 80 mg/L (just below the 100 mg/L estimated in Burkett) as the Km as described in Holford 1987.\n",
        "\n",
        "Some other drugs such as phenytoin also display saturated elimination kinetics (see Chapter 9: Non-linear Pharmacokinetics *in* **Pharmacokinetics Made Easy** by Donald Burkett).\n",
        "\n",
        "*Holford, N., Clinical Pharmacokinetics of Ethanol. Clinical Pharmacokinetics, 1987. 13: p. 273-292.\n",
        "\n",
        "In the cell below we require values for C0, Vm, and Km.\n"
      ],
      "metadata": {
        "id": "Mn9TQNZ1NmfZ"
      }
    },
    {
      "cell_type": "code",
      "execution_count": null,
      "metadata": {
        "id": "Wr-SZ0Qd_J7K"
      },
      "outputs": [],
      "source": [
        "import numpy as np\n",
        "import matplotlib.pyplot as plt\n",
        "from scipy.integrate import odeint\n",
        "\n",
        "# Define the Michaelis-Menten equation based here on a saturable elimination pathway.\n",
        "def decay_model(C, t, Vm, km):\n",
        "    dCdt = -Vm * C / (km + C)\n",
        "    return dCdt\n",
        "\n",
        "# Initial conditions for IV dosing. Conc at t=0, Vmax and Km\n",
        "C0 = 500  # Initial concentration (mg/L)\n",
        "Vm = 230  # Maximum rate of decay (mg/L/h)\n",
        "km = 80  # C value at which decay is half Vm (mg/L)\n",
        "\n",
        "# Generate a series of timepoints with linspace.\n",
        "t = np.linspace(0, 10, 100)  # Adjust the time range as needed\n",
        "\n",
        "# Solve the ordinary differential equation (ODE) using scipy.\n",
        "# The ODE does not have a simple solution and must be integrated to find y values at time t.\n",
        "C = odeint(decay_model, C0, t, args=(Vm, km))\n",
        "\n",
        "# Plot\n",
        "plt.figure(figsize=(10, 5))\n",
        "plt.plot(t, C)\n",
        "plt.xlabel('Time (h)')\n",
        "plt.ylabel('Plasma Concentration (mg/L)')\n",
        "plt.title('Plasma-time Curve Showing Saturable Elimination Kinetics')\n",
        "plt.show()\n"
      ]
    }
  ]
}