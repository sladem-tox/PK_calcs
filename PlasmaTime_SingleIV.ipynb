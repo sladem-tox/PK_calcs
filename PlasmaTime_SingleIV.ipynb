{
  "nbformat": 4,
  "nbformat_minor": 0,
  "metadata": {
    "colab": {
      "provenance": [],
      "authorship_tag": "ABX9TyOGUkhcMglxKwnz7AK8Ngib",
      "include_colab_link": true
    },
    "kernelspec": {
      "name": "python3",
      "display_name": "Python 3"
    },
    "language_info": {
      "name": "python"
    }
  },
  "cells": [
    {
      "cell_type": "markdown",
      "metadata": {
        "id": "view-in-github",
        "colab_type": "text"
      },
      "source": [
        "<a href=\"https://colab.research.google.com/github/sladem-tox/PK_calcs/blob/main/PlasmaTime_SingleIV.ipynb\" target=\"_parent\"><img src=\"https://colab.research.google.com/assets/colab-badge.svg\" alt=\"Open In Colab\"/></a>"
      ]
    },
    {
      "cell_type": "markdown",
      "source": [
        "# Single IV elimination curve.\n",
        "`Page by Dr Slade Matthews, The University of Sydney, 2023`\n",
        "\n",
        "Follows the formula:\\begin{equation} C = C_0 * e^{-kt} \\end{equation}\n",
        "\n",
        "In the code below you can change the drug parameters **dose**, **Cl**, and **Vd**.\n",
        "\n",
        "The initial drug plasma concentration for an IV dose is given by:\n",
        "\\begin{equation} C_0 = \\frac{dose}{Vd} \\end{equation}\n",
        "\n",
        "The formula for the constant \"k\" is given by:\n",
        "\\begin{equation} k = \\frac{Cl}{Vd} \\end{equation}\n",
        "\n",
        "\n"
      ],
      "metadata": {
        "id": "cfNlzlf7lPv2"
      }
    },
    {
      "cell_type": "code",
      "source": [
        "############\n",
        "#Insert Drug parameters, Cl = clearance (L/h), Vd = volume of distribution (L), and dose in mg.\n",
        "dose =100\n",
        "Cl =20\n",
        "Vd =200\n",
        "############"
      ],
      "metadata": {
        "id": "Tj5hOADQhlrV"
      },
      "execution_count": null,
      "outputs": []
    },
    {
      "cell_type": "code",
      "execution_count": null,
      "metadata": {
        "id": "ZcR02LTIidVS"
      },
      "outputs": [],
      "source": [
        "#############################################################\n",
        "# DO NOT CHANGE THESE\n",
        "#############################################################\n",
        "# Initial concentration is dose over volume of distribution\n",
        "ystart =dose/Vd\n",
        "\n",
        "#The elimination rate constant is CL over Vd\n",
        "k = Cl/Vd\n",
        "\n",
        "import matplotlib.pyplot as plt\n",
        "import numpy as np\n",
        "\n",
        "t = np.linspace(0, 24, 100)\n",
        "y = ystart * np.exp(-k*t)\n",
        "\n",
        "fig = plt.figure(figsize = (10, 5))\n",
        "# Create the plot\n",
        "plt.plot(t, y)\n",
        "plt.xlabel(\"Time (h)\")\n",
        "plt.ylabel(\"Plasma Concentration (mg/L)\")\n",
        "\n",
        "# Show the plot\n",
        "plt.show()"
      ]
    },
    {
      "cell_type": "markdown",
      "source": [
        "The AUC can be calculated using the relationship:\n",
        "\\begin{equation} AUC = \\frac{Dose}{Cl} \\end{equation}"
      ],
      "metadata": {
        "id": "SVjKZygzWCKt"
      }
    },
    {
      "cell_type": "code",
      "source": [
        "AUC = dose/Cl\n",
        "print(\"The AUC is\", AUC)\n"
      ],
      "metadata": {
        "id": "LD4_u6_yzC7t"
      },
      "execution_count": null,
      "outputs": []
    },
    {
      "cell_type": "markdown",
      "source": [
        "We can also determine the AUC by integrating the plasma-time curve as this is how it would be determined experimentally. Here we use trapezoidal Integration with to a set of x y coordinates determined using the formula for the IV plasma-time curve."
      ],
      "metadata": {
        "id": "HDcB2dBiWUGc"
      }
    },
    {
      "cell_type": "code",
      "source": [
        "import numpy as np\n",
        "def f1(t):\n",
        "   return ystart * np.exp(-k*t)\n",
        "\n",
        "t = np.linspace(0, 24, 1000)\n",
        "#linspace here returns a evenly spaced set of 1000 values from 0 to 24 in an ndarray as used in the plot above.\n",
        "\n",
        "y1 = f1(t)\n",
        "#Ths line generates an ndarray \"y1\" from running the function \"f1\" on the t values in the array called \"t\"\n",
        "from scipy import integrate\n",
        "I1 = integrate.trapezoid(y1, t)\n",
        "#This line performs trapezoidal integration by adding the series of trapazoids constructed from the arrays of x and y coordinates\n",
        "print(\"The AUC from integration is\", round(I1,4))"
      ],
      "metadata": {
        "id": "LkSLJ7jYtjbW"
      },
      "execution_count": null,
      "outputs": []
    },
    {
      "cell_type": "markdown",
      "source": [
        "## The AUC from integration is not 5. Why?"
      ],
      "metadata": {
        "id": "lLA_XfkwFp3y"
      }
    },
    {
      "cell_type": "code",
      "source": [
        "# The trapezoidal rule can't go up to infinity because we can't keep making boxes for ever!\n",
        "# The scipy has an integral function that can reach infinity.\n",
        "import numpy as np\n",
        "from scipy.integrate import quad\n",
        "def integrand(t):\n",
        "   return ystart * np.exp(-k*t)\n",
        "\n",
        "k = Cl/Vd\n",
        "\n",
        "I = quad(integrand, 0, np.inf)\n",
        "I\n"
      ],
      "metadata": {
        "id": "RzMCx5GbERwF"
      },
      "execution_count": null,
      "outputs": []
    },
    {
      "cell_type": "markdown",
      "source": [
        "The quad intergral (above) returns the inegral and an error estimate. Pretty small error and very close to exactly 5!"
      ],
      "metadata": {
        "id": "Nyi5VjgUMqWZ"
      }
    },
    {
      "cell_type": "code",
      "source": [
        "#You can plug any time value \"t\" into the equation to find the corresponding concentration value\n",
        "conc = f1(20)\n",
        "print(\"The plasma concentration at time t is:\", round(conc,2), \"mg/L\")"
      ],
      "metadata": {
        "id": "LB7EfcYITu4j"
      },
      "execution_count": null,
      "outputs": []
    },
    {
      "cell_type": "markdown",
      "source": [
        "The formula for half-life is given by:\n",
        "\\begin{equation} t_\\frac{1}{2} = 0.693 * \\frac{Vd}{Cl} \\end{equation}\n"
      ],
      "metadata": {
        "id": "wpKQNpT3P_3R"
      }
    },
    {
      "cell_type": "code",
      "source": [
        "halflife = 0.693 * (Vd/Cl)\n",
        "#print(\"The half-life for the drug is\", halflife, \"hours.\")\n",
        "print(\"The half-life for the drug is %.2f hours.\" % halflife)"
      ],
      "metadata": {
        "id": "fYecooP0L9wR"
      },
      "execution_count": null,
      "outputs": []
    },
    {
      "cell_type": "code",
      "source": [
        "#Calulate how many halflives have past at some timepoint and determine the plasma concentration remaining.\n",
        "timepoint = 24\n",
        "num_hfl = timepoint/halflife\n",
        "remain = ystart / (2**num_hfl)\n",
        "#print(\"At \",timepoint, \"hours there will be \", round(remain,3), \"mg/L remaining in the plasma.\")\n",
        "\n",
        "#print(\"At %i hours there will be %.3f mg/L remaining in the plasma\" % (timepoint, remain))\n",
        "\n",
        "print(\"At %.1f hours there will be %.3f mg/L remaining in the plasma\" % (timepoint, remain))"
      ],
      "metadata": {
        "id": "HP1QiLuxNgp2"
      },
      "execution_count": null,
      "outputs": []
    },
    {
      "cell_type": "code",
      "source": [
        "#Simple example of why 2 to the power of how many halflives determines the fraction remaining.\n",
        "Czero = 50\n",
        "remain = Czero / 2**3\n",
        "remain\n",
        "# Convince your self that 2 to the power of \"how many half-lives\" gives the fraction remaining.\n",
        "#50 div 2 is 25 (2^1)\n",
        "#25 div 2 is 12.5 (2^2)\n",
        "#12.5 div 2 is 6.25 (2^3)"
      ],
      "metadata": {
        "id": "7FJNPvpCOROZ"
      },
      "execution_count": null,
      "outputs": []
    }
  ]
}