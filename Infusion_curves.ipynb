{
  "nbformat": 4,
  "nbformat_minor": 0,
  "metadata": {
    "colab": {
      "provenance": [],
      "authorship_tag": "ABX9TyNPe4Jfp+bvOxM9TuPV6Cra",
      "include_colab_link": true
    },
    "kernelspec": {
      "name": "python3",
      "display_name": "Python 3"
    },
    "language_info": {
      "name": "python"
    }
  },
  "cells": [
    {
      "cell_type": "markdown",
      "metadata": {
        "id": "view-in-github",
        "colab_type": "text"
      },
      "source": [
        "<a href=\"https://colab.research.google.com/github/sladem-tox/PK_calcs/blob/main/Infusion_curves.ipynb\" target=\"_parent\"><img src=\"https://colab.research.google.com/assets/colab-badge.svg\" alt=\"Open In Colab\"/></a>"
      ]
    },
    {
      "cell_type": "markdown",
      "source": [
        "# IV infusion concentration curve.\n",
        "`Page by Dr Slade Matthews, The University of Sydney, 2023`\n",
        "\n",
        "\n",
        "Concentration during infusion is given by:\n",
        "\\begin{equation} C = \\frac{K_0}{Cl} * (1-e^{-k_et})\\end{equation}\n",
        "\n",
        "Where K_0 = infusion rate\n",
        "\n",
        "And K_e is the elimination rate constant"
      ],
      "metadata": {
        "id": "Eo_D-JQsLvfE"
      }
    },
    {
      "cell_type": "code",
      "execution_count": null,
      "metadata": {
        "id": "9TmBklOULuq0"
      },
      "outputs": [],
      "source": [
        "############\n",
        "#Insert Drug parameters, Cl = clearance (L/h), Vd = volume of distribution (L), and dose in mg.\n",
        "#K0 = infusion rate (mg/h)\n",
        "K0 = 10\n",
        "Cl = 40\n",
        "Cl2 = 60\n",
        "Cl3 = 80\n",
        "Vd = 200\n",
        "############"
      ]
    },
    {
      "cell_type": "code",
      "source": [
        "#The elimination rate constant is CL over Vd\n",
        "k = Cl/Vd\n",
        "k2 = Cl2/Vd\n",
        "k3 = Cl3/Vd\n",
        "\n",
        "import matplotlib.pyplot as plt\n",
        "import numpy as np\n",
        "\n",
        "t = np.linspace(0, 24, 100)\n",
        "y = K0/Cl * (1-np.exp(-k*t))\n",
        "\n",
        "fig = plt.figure(figsize = (10, 5))\n",
        "# Create the plot\n",
        "plt.plot(t, y, label = \"Clearance 40 L/h\")\n",
        "plt.plot(t, K0/Cl2 * (1-np.exp(-k2*t)), label = \"Clearance 60 L/h\")\n",
        "plt.plot(t, K0/Cl3 * (1-np.exp(-k3*t)), label = \"Clearance 80 L/h\")\n",
        "plt.xlabel(\"Time (h)\")\n",
        "plt.ylabel(\"Plasma Concentration (mg/L)\")\n",
        "\n",
        "# Show the plot\n",
        "plt.legend()\n",
        "plt.show()"
      ],
      "metadata": {
        "id": "tbdS3DbFOwc1"
      },
      "execution_count": null,
      "outputs": []
    },
    {
      "cell_type": "code",
      "source": [
        "halflife = 0.693 * (Vd/Cl)\n",
        "ttss = 5 * halflife\n",
        "print(\"It will take %.2f hours to reach steadystate if clearance is %.f\" % (ttss, Cl))"
      ],
      "metadata": {
        "id": "FW-JYilmPRv2"
      },
      "execution_count": null,
      "outputs": []
    },
    {
      "cell_type": "code",
      "source": [
        "halflife\n",
        "-"
      ],
      "metadata": {
        "id": "r6IDiN4XDRyC"
      },
      "execution_count": null,
      "outputs": []
    },
    {
      "cell_type": "code",
      "source": [
        "halflife2 = 0.693 * (Vd/Cl2)\n",
        "ttss2 = 5 * halflife2\n",
        "print(\"It will take %.2f hours to reach steadystate if clearance is %.f\" % (ttss2, Cl2))"
      ],
      "metadata": {
        "id": "b0AFeOxERzVK"
      },
      "execution_count": null,
      "outputs": []
    },
    {
      "cell_type": "code",
      "source": [
        "halflife3 = 0.693 * (Vd/Cl3)\n",
        "ttss3 = 5 * halflife3\n",
        "print(\"It will take %.2f hours to reach steadystate if clearance is %.f\" % (ttss3, Cl3))"
      ],
      "metadata": {
        "id": "_XAFqJCvR7ky"
      },
      "execution_count": null,
      "outputs": []
    }
  ]
}