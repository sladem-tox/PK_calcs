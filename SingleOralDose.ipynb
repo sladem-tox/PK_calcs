{
  "nbformat": 4,
  "nbformat_minor": 0,
  "metadata": {
    "colab": {
      "provenance": [],
      "authorship_tag": "ABX9TyPrxGpIc5s3a+G/GLL55GQl",
      "include_colab_link": true
    },
    "kernelspec": {
      "name": "python3",
      "display_name": "Python 3"
    },
    "language_info": {
      "name": "python"
    }
  },
  "cells": [
    {
      "cell_type": "markdown",
      "metadata": {
        "id": "view-in-github",
        "colab_type": "text"
      },
      "source": [
        "<a href=\"https://colab.research.google.com/github/sladem-tox/PK_calcs/blob/main/SingleOralDose.ipynb\" target=\"_parent\"><img src=\"https://colab.research.google.com/assets/colab-badge.svg\" alt=\"Open In Colab\"/></a>"
      ]
    },
    {
      "cell_type": "markdown",
      "source": [
        "# Single Oral plasma-time curve.\n",
        "`Page by Dr Slade Matthews, The University of Sydney, 2023`\n",
        "\n",
        "Follows the formula:\\begin{equation} C = \\frac{F.Dose.k_a}{Vd(k_a-k_e)} *(e^{-k_et} - e^{-k_at}) \\end{equation}\n",
        "\n",
        "In the cell below we require values for dose, Cl, Vd, F, and ka.\n",
        "This simple model does not account for salting effects, metabolism, etc."
      ],
      "metadata": {
        "id": "8exMtnP-YMZZ"
      }
    },
    {
      "cell_type": "code",
      "execution_count": 2,
      "metadata": {
        "id": "I2QaeF_6K7J5"
      },
      "outputs": [],
      "source": [
        "############\n",
        "#Insert Drug parameters, Cl = clearance (L/h), Vd = volume of distribution (L), and dose in mg, bioavailability (F), and absorption rate constant (ka).\n",
        "#Here we are using the PK parameters from the single IV curve we already ran in this repo.\n",
        "# For more on the estimation of oral PK parameters see: Gabrielsson 2006 (page 508)\n",
        "# Parameters:\n",
        "\n",
        "dose =200\n",
        "Cl = 20\n",
        "Vd =200\n",
        "#Bioavailability would need to be determined experimentally. F = AUCoral/AUCiv\n",
        "F = 0.8\n",
        "# We also need to set the absorption rate constant:\n",
        "#Ka is experimentally extrapolated by means of a method of residuals (feathering) where ka corresponds to the slope of the residual line.\n",
        "#Here the number chosen gives a nice shaped curve! You would need to consult published papers to find values of Ka for your drug or determine it experimentally.\n",
        "ka = 0.009*60\n",
        "############\n",
        "#Assuming that we have the data from the single IV curve we now know Cl and Vd so k can be estimated:\n",
        "#The elimination rate constant is simply given by CL over Vd\n",
        "k = Cl/Vd"
      ]
    },
    {
      "cell_type": "code",
      "source": [
        "#Calculate half-life\n",
        "import numpy as np\n",
        "hl = -np.log(.5)/k\n",
        "print(\"The half-life for the drug is %.2f hours.\" % hl)"
      ],
      "metadata": {
        "colab": {
          "base_uri": "https://localhost:8080/"
        },
        "id": "H6jV_HsBYala",
        "outputId": "49d6bc4f-f1f2-4248-9b83-ed75bbede0ae"
      },
      "execution_count": 3,
      "outputs": [
        {
          "output_type": "stream",
          "name": "stdout",
          "text": [
            "The half-life for the drug is 6.93 hours.\n"
          ]
        }
      ]
    },
    {
      "cell_type": "code",
      "source": [
        "import matplotlib.pyplot as plt\n",
        "import numpy as np\n",
        "\n",
        "kdif = ka - k\n",
        "t = np.linspace(0, 24, 100)\n",
        "y = ((F*dose*ka)/(Vd*kdif)) * (np.exp(-k*t) - np.exp(-ka*t))\n",
        " \n",
        "fig = plt.figure(figsize = (10, 5))\n",
        "# Create the plot\n",
        "plt.plot(t, y)\n",
        "plt.xlabel(\"Time (h)\")\n",
        "plt.ylabel(\"Plasma Concentration (mg/L)\")\n",
        " \n",
        "# Show the plot\n",
        "plt.show()"
      ],
      "metadata": {
        "colab": {
          "base_uri": "https://localhost:8080/",
          "height": 334
        },
        "id": "AdJn-GKsYeek",
        "outputId": "4cf4cc6d-c56a-4c5e-9995-06f0856da0d5"
      },
      "execution_count": 4,
      "outputs": [
        {
          "output_type": "display_data",
          "data": {
            "text/plain": [
              "<Figure size 720x360 with 1 Axes>"
            ],
            "image/png": "[encoded data removed]"
          },
          "metadata": {
            "needs_background": "light"
          }
        }
      ]
    },
    {
      "cell_type": "code",
      "source": [
        "#The oral disposition equation can be defined as a function so we can ask it about specific times.\n",
        "def oral(t):\n",
        "  return str(round(((F*dose*ka)/(Vd*kdif)) * (np.exp(-k*t) - np.exp(-ka*t)),2)) + ' mg/L'"
      ],
      "metadata": {
        "id": "7F683hedudnR"
      },
      "execution_count": 5,
      "outputs": []
    },
    {
      "cell_type": "code",
      "source": [
        "oral(5)"
      ],
      "metadata": {
        "colab": {
          "base_uri": "https://localhost:8080/",
          "height": 35
        },
        "id": "RNj4YIP6vUNu",
        "outputId": "6b8c5008-4668-4e5b-e0c2-228bfdd2af5f"
      },
      "execution_count": 6,
      "outputs": [
        {
          "output_type": "execute_result",
          "data": {
            "text/plain": [
              "'0.53 mg/L'"
            ],
            "application/vnd.google.colaboratory.intrinsic+json": {
              "type": "string"
            }
          },
          "metadata": {},
          "execution_count": 6
        }
      ]
    },
    {
      "cell_type": "code",
      "source": [
        "for i in range(10):\n",
        "  print(oral(i))"
      ],
      "metadata": {
        "colab": {
          "base_uri": "https://localhost:8080/"
        },
        "id": "8cqSmZsd1k8_",
        "outputId": "06c4344c-23de-4b9f-cc15-dd6921d331bf"
      },
      "execution_count": 10,
      "outputs": [
        {
          "output_type": "stream",
          "name": "stdout",
          "text": [
            "0.0 mg/L\n",
            "0.32 mg/L\n",
            "0.47 mg/L\n",
            "0.53 mg/L\n",
            "0.54 mg/L\n",
            "0.53 mg/L\n",
            "0.5 mg/L\n",
            "0.47 mg/L\n",
            "0.43 mg/L\n",
            "0.39 mg/L\n"
          ]
        }
      ]
    }
  ]
}